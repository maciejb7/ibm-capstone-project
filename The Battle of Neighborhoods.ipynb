{
    "cells": [
        {
            "cell_type": "markdown",
            "metadata": {
                "collapsed": true
            },
            "source": "<div style=\"margin-left:15%;margin-right:15%;text-align:center\">\n<h1 style=\"font-size:290%;font-family:Bahnschrift\">Correlation between 2020 presidential election outcomes and popular venue types across U.S. counties</h1>\n<h2 style=\"margin-top:5px;font-size:170%;font-family:Bahnschrift\">IBM Applied Data Science Capstone Project (Week 4)</h2>\n    </div>"
        },
        {
            "cell_type": "markdown",
            "metadata": {},
            "source": "<div style=\"margin-left:15%;margin-right:15%;text-align:center\">\n<h3 style=\"font-size:160%;font-family:Bahnschrift\">Introduction</h3>\n<p style=\"font-size:140%;font-family:Bahnschrift;text-align:justify\">\n    <a href=\"https://www.pewresearch.org/politics/2016/06/22/1-feelings-about-partisans-and-the-parties/\" \n       style=\"color:green;text-decoration:none\">\n        Studies show clearly that Americans' animosity toward the opposing political party have witnessed a growing intensity in the recent years.\n    </a>\n        Nationwide geographic political segregation also experienced a significant increase. These factors have contributed to the formation of political bubbles - counties and neighborhoods isolated from supporters of opposing political parties. According to the \n    <a href=\"https://www.nature.com/articles/s41562-021-01066-z\" style=\"color:green;text-decoration:none\">\n    Nature article by Jacob R. Brown and Ryan D. Enos</a>, nearly two-fifths of Democrats and one-fifth of Republicans live in such bubbles. Given <a href=\"https://www.ncbi.nlm.nih.gov/pmc/articles/PMC3809096/\"  style=\"color:green;text-decoration:none\">the relationship between political views and personality traits</a>, and given <a href=\"https://pubmed.ncbi.nlm.nih.gov/20021582/\" style=\"color:green;text-decoration:none\">the correlation between personality traits and interests</a>, it is reasonable to hypothesize that the most common interests of citizens of the most Democratic counties will differ from the most common interests of citizens of extremely Republican counties. \n    <br><br>\n    We can extend this thesis even further. A clear, long-standing demand for a given entertainment service should increase the number of venues offering such services. As a result, we can hypothesize that there is a relationship between popular venues and presidential election outcomes in U.S. counties. In examining this correlation, however, it is worth remembering to exclude from the study venues whose location depends largely on other factors, such as terrain features - mountain lodges or fish markets, for example.\n    <br><br>\n    Thus, the purpose of this study is to examine the relationship between the 2020 presidential election results and popular venue categories in the most Democratic and most Republican counties in the United States. Since a generalized set of the most popular venue categories among a political party's supporters also show the interests of that political party's supporters, the results of this study may provide valuable insights for political parties in running their election campaigns - both presidential and local. As personalized election advertising is already <a href=\"https://www.pbs.org/newshour/extra/daily-videos/modern-political-campaigns-mean-personalization/\" style=\"color:green;text-decoration:none\">a common practice</a>, additional data on potential voters based on this correlation could help improve the targeting of ads to appropriate audiences.\n</p>\n    \n</div>"
        },
        {
            "cell_type": "markdown",
            "metadata": {},
            "source": "<div style=\"margin-left:15%;margin-right:15%;text-align:center\">\n    <h3 style=\"font-size:160%;font-family:Bahnschrift\">Data section</h3>\n    <p style=\"font-size:140%;font-family:Bahnschrift;text-align:justify\">\n        In order to find the most Democratic and most Republican counties, I am going to use the <a href=\"https://www.kaggle.com/unanimad/us-election-2020\" style=\"color:green;text-decoration:none\">\"US Election 2020\" database</a> by Raphael Fontes, made available under a CC0 Public Domain license. It contains presidential election results for every county in the United States, showing the exact number of votes received by each of the candidates. Then, to find the exact location of the selected counties, I will use the geopy library, which returns the altitude and latitude of the indicated location. Finally, I will use the API of the Foursquare website, which contains information on over 100 million venues around the world. This API will allow me to analyze the most popular categories of venues in a given county, which will help me confirm or debunk my hypothesis.\n    </p>\n</div>"
        }
    ],
    "metadata": {
        "kernelspec": {
            "display_name": "Python 3.7",
            "language": "python",
            "name": "python3"
        },
        "language_info": {
            "codemirror_mode": {
                "name": "ipython",
                "version": 3
            },
            "file_extension": ".py",
            "mimetype": "text/x-python",
            "name": "python",
            "nbconvert_exporter": "python",
            "pygments_lexer": "ipython3",
            "version": "3.7.10"
        }
    },
    "nbformat": 4,
    "nbformat_minor": 1
}